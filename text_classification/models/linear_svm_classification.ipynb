{
 "cells": [
  {
   "cell_type": "code",
   "execution_count": 11,
   "id": "d3b0713f",
   "metadata": {},
   "outputs": [],
   "source": [
    "import pandas as pd\n",
    "import numpy as np\n",
    "from sklearn.feature_extraction.text import TfidfVectorizer\n",
    "from sklearn.svm import LinearSVC\n",
    "from sklearn.model_selection import train_test_split\n",
    "from sklearn.metrics import classification_report"
   ]
  },
  {
   "cell_type": "code",
   "execution_count": 2,
   "id": "22a3dda8",
   "metadata": {},
   "outputs": [],
   "source": [
    "# Data import \n",
    "df = pd.read_csv('../data/skytrax_reviews.csv', sep=';', index_col=0)"
   ]
  },
  {
   "cell_type": "code",
   "execution_count": 3,
   "id": "3bc86113",
   "metadata": {},
   "outputs": [
    {
     "name": "stdout",
     "output_type": "stream",
     "text": [
      "<class 'pandas.core.frame.DataFrame'>\n",
      "Index: 50000 entries, 6193 to 28216\n",
      "Data columns (total 5 columns):\n",
      " #   Column        Non-Null Count  Dtype \n",
      "---  ------        --------------  ----- \n",
      " 0   rating        50000 non-null  int64 \n",
      " 1   review_title  50000 non-null  object\n",
      " 2   review_text   50000 non-null  object\n",
      " 3   airline_name  50000 non-null  object\n",
      " 4   Sentiment     50000 non-null  object\n",
      "dtypes: int64(1), object(4)\n",
      "memory usage: 2.3+ MB\n"
     ]
    }
   ],
   "source": [
    "df.info()"
   ]
  },
  {
   "cell_type": "code",
   "execution_count": 5,
   "id": "241f54e1",
   "metadata": {},
   "outputs": [],
   "source": [
    "# Binarize\n",
    "\n",
    "df['binary_label'] = df['Sentiment'].map({'positive': 1, 'negative':0})\n",
    "\n",
    "# Target labels\n",
    "Y = df['binary_label'].to_numpy()\n",
    "\n",
    "# Split data\n",
    "df_train, df_test, Ytrain, Ytest = train_test_split(df['review_text'].values.astype('U'), Y, test_size=0.33)"
   ]
  },
  {
   "cell_type": "code",
   "execution_count": 6,
   "id": "e244f8c2",
   "metadata": {},
   "outputs": [],
   "source": [
    "# Feature Engineering\n",
    "\n",
    "featurizer = TfidfVectorizer(decode_error='ignore')\n",
    "X_train = featurizer.fit_transform(df_train)\n",
    "X_test = featurizer.transform(df_test)"
   ]
  },
  {
   "cell_type": "code",
   "execution_count": 7,
   "id": "7261553f",
   "metadata": {},
   "outputs": [
    {
     "name": "stderr",
     "output_type": "stream",
     "text": [
      "c:\\Users\\lucas\\AppData\\Local\\Programs\\Python\\Python312\\Lib\\site-packages\\sklearn\\svm\\_classes.py:32: FutureWarning: The default value of `dual` will change from `True` to `'auto'` in 1.5. Set the value of `dual` explicitly to suppress the warning.\n",
      "  warnings.warn(\n"
     ]
    },
    {
     "name": "stdout",
     "output_type": "stream",
     "text": [
      "Train Accuracy: 0.9884776119402985\n",
      "Test Accuracy: 0.9508484848484848\n"
     ]
    }
   ],
   "source": [
    "# Creating the model\n",
    "model = LinearSVC()\n",
    "model.fit(X_train, Ytrain)\n",
    "print(\"Train Accuracy:\", model.score(X_train, Ytrain))\n",
    "print(\"Test Accuracy:\", model.score(X_test, Ytest))"
   ]
  },
  {
   "cell_type": "code",
   "execution_count": 9,
   "id": "af1fe88d",
   "metadata": {},
   "outputs": [],
   "source": [
    "predictions = model.predict(X_test)"
   ]
  },
  {
   "cell_type": "code",
   "execution_count": 12,
   "id": "abbf6ff6",
   "metadata": {},
   "outputs": [
    {
     "name": "stdout",
     "output_type": "stream",
     "text": [
      "              precision    recall  f1-score   support\n",
      "\n",
      "           0       0.95      0.95      0.95      8320\n",
      "           1       0.95      0.95      0.95      8180\n",
      "\n",
      "    accuracy                           0.95     16500\n",
      "   macro avg       0.95      0.95      0.95     16500\n",
      "weighted avg       0.95      0.95      0.95     16500\n",
      "\n"
     ]
    }
   ],
   "source": [
    "print(classification_report(Ytest,predictions))"
   ]
  }
 ],
 "metadata": {
  "kernelspec": {
   "display_name": "Python 3",
   "language": "python",
   "name": "python3"
  },
  "language_info": {
   "codemirror_mode": {
    "name": "ipython",
    "version": 3
   },
   "file_extension": ".py",
   "mimetype": "text/x-python",
   "name": "python",
   "nbconvert_exporter": "python",
   "pygments_lexer": "ipython3",
   "version": "3.12.0"
  }
 },
 "nbformat": 4,
 "nbformat_minor": 5
}
